{
 "cells": [
  {
   "cell_type": "code",
   "execution_count": 68,
   "metadata": {},
   "outputs": [],
   "source": [
    "import pandas as pd\n",
    "import numpy as np\n",
    "import matplotlib.pyplot as plt\n",
    "%matplotlib inline\n",
    "import random\n",
    "import seaborn as sns\n",
    "import itertools\n",
    "from tqdm import tqdm_notebook as tqdm\n",
    "from scipy import stats as st\n",
    "from sklearn.model_selection import train_test_split, GridSearchCV, StratifiedKFold\n",
    "from sklearn.preprocessing import StandardScaler\n",
    "from sklearn.metrics import f1_score, roc_auc_score, get_scorer\n",
    "from sklearn.linear_model import LogisticRegression\n",
    "from sklearn.ensemble import RandomForestClassifier\n",
    "from sklearn.tree import DecisionTreeClassifier\n",
    "from sklearn.pipeline import Pipeline\n",
    "from sklearn.utils import shuffle\n",
    "\n",
    "import warnings\n",
    "def ignore_warn(*args, **kwargs):\n",
    "    pass\n",
    "warnings.warn = ignore_warn #ignore annoying warning (from sklearn and seaborn)"
   ]
  },
  {
   "cell_type": "code",
   "execution_count": 69,
   "metadata": {},
   "outputs": [
    {
     "name": "stdout",
     "output_type": "stream",
     "text": [
      "/datasets/Churn.csv\r\n"
     ]
    }
   ],
   "source": [
    "!ls /datasets/Churn*"
   ]
  },
  {
   "cell_type": "code",
   "execution_count": 70,
   "metadata": {},
   "outputs": [],
   "source": [
    "data = pd.read_csv('/datasets/Churn.csv')"
   ]
  },
  {
   "cell_type": "code",
   "execution_count": 71,
   "metadata": {},
   "outputs": [
    {
     "name": "stdout",
     "output_type": "stream",
     "text": [
      "<class 'pandas.core.frame.DataFrame'>\n",
      "RangeIndex: 10000 entries, 0 to 9999\n",
      "Data columns (total 14 columns):\n",
      "RowNumber          10000 non-null int64\n",
      "CustomerId         10000 non-null int64\n",
      "Surname            10000 non-null object\n",
      "CreditScore        10000 non-null int64\n",
      "Geography          10000 non-null object\n",
      "Gender             10000 non-null object\n",
      "Age                10000 non-null int64\n",
      "Tenure             9091 non-null float64\n",
      "Balance            10000 non-null float64\n",
      "NumOfProducts      10000 non-null int64\n",
      "HasCrCard          10000 non-null int64\n",
      "IsActiveMember     10000 non-null int64\n",
      "EstimatedSalary    10000 non-null float64\n",
      "Exited             10000 non-null int64\n",
      "dtypes: float64(3), int64(8), object(3)\n",
      "memory usage: 1.1+ MB\n"
     ]
    }
   ],
   "source": [
    "data.info()"
   ]
  },
  {
   "cell_type": "code",
   "execution_count": 72,
   "metadata": {},
   "outputs": [
    {
     "data": {
      "text/html": [
       "<div>\n",
       "<style scoped>\n",
       "    .dataframe tbody tr th:only-of-type {\n",
       "        vertical-align: middle;\n",
       "    }\n",
       "\n",
       "    .dataframe tbody tr th {\n",
       "        vertical-align: top;\n",
       "    }\n",
       "\n",
       "    .dataframe thead th {\n",
       "        text-align: right;\n",
       "    }\n",
       "</style>\n",
       "<table border=\"1\" class=\"dataframe\">\n",
       "  <thead>\n",
       "    <tr style=\"text-align: right;\">\n",
       "      <th></th>\n",
       "      <th>RowNumber</th>\n",
       "      <th>CustomerId</th>\n",
       "      <th>Surname</th>\n",
       "      <th>CreditScore</th>\n",
       "      <th>Geography</th>\n",
       "      <th>Gender</th>\n",
       "      <th>Age</th>\n",
       "      <th>Tenure</th>\n",
       "      <th>Balance</th>\n",
       "      <th>NumOfProducts</th>\n",
       "      <th>HasCrCard</th>\n",
       "      <th>IsActiveMember</th>\n",
       "      <th>EstimatedSalary</th>\n",
       "      <th>Exited</th>\n",
       "    </tr>\n",
       "  </thead>\n",
       "  <tbody>\n",
       "    <tr>\n",
       "      <td>0</td>\n",
       "      <td>1</td>\n",
       "      <td>15634602</td>\n",
       "      <td>Hargrave</td>\n",
       "      <td>619</td>\n",
       "      <td>France</td>\n",
       "      <td>Female</td>\n",
       "      <td>42</td>\n",
       "      <td>2.0</td>\n",
       "      <td>0.00</td>\n",
       "      <td>1</td>\n",
       "      <td>1</td>\n",
       "      <td>1</td>\n",
       "      <td>101348.88</td>\n",
       "      <td>1</td>\n",
       "    </tr>\n",
       "    <tr>\n",
       "      <td>1</td>\n",
       "      <td>2</td>\n",
       "      <td>15647311</td>\n",
       "      <td>Hill</td>\n",
       "      <td>608</td>\n",
       "      <td>Spain</td>\n",
       "      <td>Female</td>\n",
       "      <td>41</td>\n",
       "      <td>1.0</td>\n",
       "      <td>83807.86</td>\n",
       "      <td>1</td>\n",
       "      <td>0</td>\n",
       "      <td>1</td>\n",
       "      <td>112542.58</td>\n",
       "      <td>0</td>\n",
       "    </tr>\n",
       "    <tr>\n",
       "      <td>2</td>\n",
       "      <td>3</td>\n",
       "      <td>15619304</td>\n",
       "      <td>Onio</td>\n",
       "      <td>502</td>\n",
       "      <td>France</td>\n",
       "      <td>Female</td>\n",
       "      <td>42</td>\n",
       "      <td>8.0</td>\n",
       "      <td>159660.80</td>\n",
       "      <td>3</td>\n",
       "      <td>1</td>\n",
       "      <td>0</td>\n",
       "      <td>113931.57</td>\n",
       "      <td>1</td>\n",
       "    </tr>\n",
       "    <tr>\n",
       "      <td>3</td>\n",
       "      <td>4</td>\n",
       "      <td>15701354</td>\n",
       "      <td>Boni</td>\n",
       "      <td>699</td>\n",
       "      <td>France</td>\n",
       "      <td>Female</td>\n",
       "      <td>39</td>\n",
       "      <td>1.0</td>\n",
       "      <td>0.00</td>\n",
       "      <td>2</td>\n",
       "      <td>0</td>\n",
       "      <td>0</td>\n",
       "      <td>93826.63</td>\n",
       "      <td>0</td>\n",
       "    </tr>\n",
       "    <tr>\n",
       "      <td>4</td>\n",
       "      <td>5</td>\n",
       "      <td>15737888</td>\n",
       "      <td>Mitchell</td>\n",
       "      <td>850</td>\n",
       "      <td>Spain</td>\n",
       "      <td>Female</td>\n",
       "      <td>43</td>\n",
       "      <td>2.0</td>\n",
       "      <td>125510.82</td>\n",
       "      <td>1</td>\n",
       "      <td>1</td>\n",
       "      <td>1</td>\n",
       "      <td>79084.10</td>\n",
       "      <td>0</td>\n",
       "    </tr>\n",
       "  </tbody>\n",
       "</table>\n",
       "</div>"
      ],
      "text/plain": [
       "   RowNumber  CustomerId   Surname  CreditScore Geography  Gender  Age  \\\n",
       "0          1    15634602  Hargrave          619    France  Female   42   \n",
       "1          2    15647311      Hill          608     Spain  Female   41   \n",
       "2          3    15619304      Onio          502    France  Female   42   \n",
       "3          4    15701354      Boni          699    France  Female   39   \n",
       "4          5    15737888  Mitchell          850     Spain  Female   43   \n",
       "\n",
       "   Tenure    Balance  NumOfProducts  HasCrCard  IsActiveMember  \\\n",
       "0     2.0       0.00              1          1               1   \n",
       "1     1.0   83807.86              1          0               1   \n",
       "2     8.0  159660.80              3          1               0   \n",
       "3     1.0       0.00              2          0               0   \n",
       "4     2.0  125510.82              1          1               1   \n",
       "\n",
       "   EstimatedSalary  Exited  \n",
       "0        101348.88       1  \n",
       "1        112542.58       0  \n",
       "2        113931.57       1  \n",
       "3         93826.63       0  \n",
       "4         79084.10       0  "
      ]
     },
     "execution_count": 72,
     "metadata": {},
     "output_type": "execute_result"
    }
   ],
   "source": [
    "data.head()"
   ]
  },
  {
   "cell_type": "code",
   "execution_count": 73,
   "metadata": {},
   "outputs": [
    {
     "data": {
      "text/plain": [
       "10000"
      ]
     },
     "execution_count": 73,
     "metadata": {},
     "output_type": "execute_result"
    }
   ],
   "source": [
    "data.CustomerId.nunique()"
   ]
  },
  {
   "cell_type": "markdown",
   "metadata": {},
   "source": [
    "No duplicates in CustomerId"
   ]
  },
  {
   "cell_type": "code",
   "execution_count": 74,
   "metadata": {},
   "outputs": [
    {
     "name": "stdout",
     "output_type": "stream",
     "text": [
      "Geography unique values: ['France' 'Spain' 'Germany']\n",
      "Tenure unique values: [ 2.  1.  8.  7.  4.  6.  3. 10.  5.  9.  0. nan]\n",
      "NumOfProducts unique values: [1 3 2 4]\n"
     ]
    }
   ],
   "source": [
    "for col in ['Geography', 'Tenure', 'NumOfProducts']:\n",
    "    print(f'{col} unique values: {data[col].unique()}')"
   ]
  },
  {
   "cell_type": "code",
   "execution_count": 75,
   "metadata": {},
   "outputs": [
    {
     "data": {
      "text/plain": [
       "<matplotlib.axes._subplots.AxesSubplot at 0x7fc3ad063590>"
      ]
     },
     "execution_count": 75,
     "metadata": {},
     "output_type": "execute_result"
    },
    {
     "data": {
      "image/png": "[encoded data removed]",
      "text/plain": [
       "<Figure size 432x288 with 1 Axes>"
      ]
     },
     "metadata": {
      "needs_background": "light"
     },
     "output_type": "display_data"
    }
   ],
   "source": [
    "data.Tenure.hist(bins=11)"
   ]
  },
  {
   "cell_type": "code",
   "execution_count": 76,
   "metadata": {},
   "outputs": [
    {
     "data": {
      "text/plain": [
       "<matplotlib.axes._subplots.AxesSubplot at 0x7fc3acf6ea10>"
      ]
     },
     "execution_count": 76,
     "metadata": {},
     "output_type": "execute_result"
    },
    {
     "data": {
      "image/png": "[encoded data removed]",
      "text/plain": [
       "<Figure size 432x288 with 1 Axes>"
      ]
     },
     "metadata": {
      "needs_background": "light"
     },
     "output_type": "display_data"
    }
   ],
   "source": [
    "data.Exited.hist()"
   ]
  },
  {
   "cell_type": "markdown",
   "metadata": {},
   "source": [
    "We have the dataset with 10000 records. Each record corresponds to unique customer Id number thus no duplicated raws and we have missing values only in the 'Tenure' columns. Our dependent variable is in the 'Exited' column and we may clearly see that it's unbalanced one"
   ]
  },
  {
   "cell_type": "markdown",
   "metadata": {},
   "source": [
    "## Data preprocessing and splitting"
   ]
  },
  {
   "cell_type": "markdown",
   "metadata": {},
   "source": [
    "Most likely the missing values in Tenure columns stands for the clients who don't have any deposits to define the period of maturation and this is the value to keep. we have values in the column from 0 to 10 representing the the periods of maturations with meaningfull order thus if we replace the missing values with -1 it'll separate the missing values and put it just below the shortest deposits which make sense."
   ]
  },
  {
   "cell_type": "code",
   "execution_count": 77,
   "metadata": {},
   "outputs": [
    {
     "data": {
      "text/plain": [
       "RowNumber          False\n",
       "CustomerId         False\n",
       "Surname            False\n",
       "CreditScore        False\n",
       "Geography          False\n",
       "Gender             False\n",
       "Age                False\n",
       "Tenure             False\n",
       "Balance            False\n",
       "NumOfProducts      False\n",
       "HasCrCard          False\n",
       "IsActiveMember     False\n",
       "EstimatedSalary    False\n",
       "Exited             False\n",
       "dtype: bool"
      ]
     },
     "execution_count": 77,
     "metadata": {},
     "output_type": "execute_result"
    }
   ],
   "source": [
    "data.Tenure.fillna(-1, inplace=True)\n",
    "data.isna().any()"
   ]
  },
  {
   "cell_type": "markdown",
   "metadata": {},
   "source": [
    "Before doing any more explorations we should put aside the test set to avoid the leakage of information from the test set. We'll drop away the identification information like row number, customer Id or surname - they won't help in training the models"
   ]
  },
  {
   "cell_type": "code",
   "execution_count": 78,
   "metadata": {},
   "outputs": [
    {
     "data": {
      "text/plain": [
       "((7500, 10), (2500, 10))"
      ]
     },
     "execution_count": 78,
     "metadata": {},
     "output_type": "execute_result"
    }
   ],
   "source": [
    "X_train, X_test, y_train, y_test = train_test_split(\n",
    "    data.drop(['Exited', 'RowNumber', 'CustomerId', 'Surname'], axis=1)\n",
    "    , data['Exited'], test_size=0.25, stratify=data['Exited'], random_state=123\n",
    ")\n",
    "X_train.shape, X_test.shape"
   ]
  },
  {
   "cell_type": "code",
   "execution_count": 79,
   "metadata": {},
   "outputs": [
    {
     "data": {
      "text/html": [
       "<div>\n",
       "<style scoped>\n",
       "    .dataframe tbody tr th:only-of-type {\n",
       "        vertical-align: middle;\n",
       "    }\n",
       "\n",
       "    .dataframe tbody tr th {\n",
       "        vertical-align: top;\n",
       "    }\n",
       "\n",
       "    .dataframe thead th {\n",
       "        text-align: right;\n",
       "    }\n",
       "</style>\n",
       "<table border=\"1\" class=\"dataframe\">\n",
       "  <thead>\n",
       "    <tr style=\"text-align: right;\">\n",
       "      <th></th>\n",
       "      <th>CreditScore</th>\n",
       "      <th>Geography</th>\n",
       "      <th>Gender</th>\n",
       "      <th>Age</th>\n",
       "      <th>Tenure</th>\n",
       "      <th>Balance</th>\n",
       "      <th>NumOfProducts</th>\n",
       "      <th>HasCrCard</th>\n",
       "      <th>IsActiveMember</th>\n",
       "      <th>EstimatedSalary</th>\n",
       "    </tr>\n",
       "  </thead>\n",
       "  <tbody>\n",
       "    <tr>\n",
       "      <td>5432</td>\n",
       "      <td>599</td>\n",
       "      <td>Spain</td>\n",
       "      <td>Male</td>\n",
       "      <td>51</td>\n",
       "      <td>0.0</td>\n",
       "      <td>0.0</td>\n",
       "      <td>1</td>\n",
       "      <td>1</td>\n",
       "      <td>1</td>\n",
       "      <td>175235.99</td>\n",
       "    </tr>\n",
       "  </tbody>\n",
       "</table>\n",
       "</div>"
      ],
      "text/plain": [
       "      CreditScore Geography Gender  Age  Tenure  Balance  NumOfProducts  \\\n",
       "5432          599     Spain   Male   51     0.0      0.0              1   \n",
       "\n",
       "      HasCrCard  IsActiveMember  EstimatedSalary  \n",
       "5432          1               1        175235.99  "
      ]
     },
     "execution_count": 79,
     "metadata": {},
     "output_type": "execute_result"
    }
   ],
   "source": [
    "X_train.head(1)"
   ]
  },
  {
   "cell_type": "markdown",
   "metadata": {},
   "source": [
    "## Feature encoding"
   ]
  },
  {
   "cell_type": "markdown",
   "metadata": {},
   "source": [
    "We have two clearly categorical feature: Geography and Gender. we can't order them so one hot encoding is the best option here."
   ]
  },
  {
   "cell_type": "code",
   "execution_count": 80,
   "metadata": {},
   "outputs": [
    {
     "data": {
      "text/html": [
       "<div>\n",
       "<style scoped>\n",
       "    .dataframe tbody tr th:only-of-type {\n",
       "        vertical-align: middle;\n",
       "    }\n",
       "\n",
       "    .dataframe tbody tr th {\n",
       "        vertical-align: top;\n",
       "    }\n",
       "\n",
       "    .dataframe thead th {\n",
       "        text-align: right;\n",
       "    }\n",
       "</style>\n",
       "<table border=\"1\" class=\"dataframe\">\n",
       "  <thead>\n",
       "    <tr style=\"text-align: right;\">\n",
       "      <th></th>\n",
       "      <th>CreditScore</th>\n",
       "      <th>Age</th>\n",
       "      <th>Tenure</th>\n",
       "      <th>Balance</th>\n",
       "      <th>NumOfProducts</th>\n",
       "      <th>HasCrCard</th>\n",
       "      <th>IsActiveMember</th>\n",
       "      <th>EstimatedSalary</th>\n",
       "      <th>Geography_Germany</th>\n",
       "      <th>Geography_Spain</th>\n",
       "      <th>Gender_Male</th>\n",
       "    </tr>\n",
       "  </thead>\n",
       "  <tbody>\n",
       "    <tr>\n",
       "      <td>5432</td>\n",
       "      <td>599</td>\n",
       "      <td>51</td>\n",
       "      <td>0.0</td>\n",
       "      <td>0.0</td>\n",
       "      <td>1</td>\n",
       "      <td>1</td>\n",
       "      <td>1</td>\n",
       "      <td>175235.99</td>\n",
       "      <td>0</td>\n",
       "      <td>1</td>\n",
       "      <td>1</td>\n",
       "    </tr>\n",
       "  </tbody>\n",
       "</table>\n",
       "</div>"
      ],
      "text/plain": [
       "      CreditScore  Age  Tenure  Balance  NumOfProducts  HasCrCard  \\\n",
       "5432          599   51     0.0      0.0              1          1   \n",
       "\n",
       "      IsActiveMember  EstimatedSalary  Geography_Germany  Geography_Spain  \\\n",
       "5432               1        175235.99                  0                1   \n",
       "\n",
       "      Gender_Male  \n",
       "5432            1  "
      ]
     },
     "execution_count": 80,
     "metadata": {},
     "output_type": "execute_result"
    }
   ],
   "source": [
    "X_train = pd.get_dummies(X_train, columns=['Geography', 'Gender'], drop_first=True)\n",
    "X_test = pd.get_dummies(X_test, columns=['Geography', 'Gender'], drop_first=True)\n",
    "X_train.head(1)"
   ]
  },
  {
   "cell_type": "markdown",
   "metadata": {},
   "source": [
    "Let's take a look at the numeric columns"
   ]
  },
  {
   "cell_type": "code",
   "execution_count": 81,
   "metadata": {},
   "outputs": [
    {
     "data": {
      "image/png": "[encoded data removed]",
      "text/plain": [
       "<Figure size 720x720 with 4 Axes>"
      ]
     },
     "metadata": {
      "needs_background": "light"
     },
     "output_type": "display_data"
    }
   ],
   "source": [
    "col_for_hist = ['CreditScore', 'Age', 'Balance', 'EstimatedSalary']\n",
    "fig, axes = plt.subplots(2,2, figsize=(10,10))\n",
    "fig.subplots_adjust(wspace=.2, hspace=.4)\n",
    "for i, col in enumerate(col_for_hist):\n",
    "    X_train[col].hist(bins=50, ax=axes[i//2,i%2])\n",
    "    axes[i//2,i%2].set_title(col, fontweight='bold', size=12)\n",
    "    \n",
    "plt.suptitle('Histograms', fontweight='bold', size=16)\n",
    "plt.show()"
   ]
  },
  {
   "cell_type": "markdown",
   "metadata": {},
   "source": [
    "It is quite possible that for the features above we should look for grouping to turn them into categories of customers. But due to the fact that we are going to work mostly with tree-based algorithms we'll leave them as they are - decision tree will split them into groups for us. For the same reason we don't need to do any scaling of the data - scaling won't affect the  tree-based models performance."
   ]
  },
  {
   "cell_type": "markdown",
   "metadata": {},
   "source": [
    "## Models without taking into account the imbalance"
   ]
  },
  {
   "cell_type": "markdown",
   "metadata": {},
   "source": [
    "We are going to try three classic ML models for this task: Decision Tree, Random Forest and Logistic Regression. Next we define the global parameter grids for them and use the pipeline to scale the data before applying Logistic Regression"
   ]
  },
  {
   "cell_type": "code",
   "execution_count": 82,
   "metadata": {},
   "outputs": [],
   "source": [
    "dt_params = {'max_depth': range(5, 11)\n",
    "             , 'min_impurity_decrease': [0.1 * 10**(-x) for x in range(2,5)]\n",
    "            }\n",
    "\n",
    "# Initial search was made for these parameters\n",
    "## ************* it took around 2 hours to run the notebook with this grid for me ***********\n",
    "rf_params = {'max_depth': range(7, 15)\n",
    "             , 'min_impurity_decrease': [0.1 * 10**(-x) for x in range(3,5)]\n",
    "          , 'n_estimators': range(80, 151, 10)\n",
    "            }\n",
    "\n",
    "# The smaller version of parameter grid for saving time when rerun the code, results were \n",
    "# similar but the text comments was made based on full param-grid for Random Forest\n",
    "#rf_params = {'max_depth': [7, 11, 14]\n",
    "#             , 'min_impurity_decrease': [0.1 * 10**(-x) for x in range(3,5)]\n",
    "#          , 'n_estimators': [80, 110, 150]\n",
    "#            }\n",
    "\n",
    "# Pipe (we don't need to scale indicator columns but no harm if we do)\n",
    "lr_pipe = Pipeline([('scaler', StandardScaler())\n",
    "                    , ('estimator', LogisticRegression(solver='liblinear'))])\n",
    "\n",
    "lr_pipe_params = {'estimator__C': [0.001, 0.01, 0.1, 1, 5, 10, 50, 100]\n",
    "                  , 'estimator__penalty': ['l1', 'l2']\n",
    "                 }"
   ]
  },
  {
   "cell_type": "markdown",
   "metadata": {},
   "source": [
    "To find the optimal global parameters we'll use the scikit-learn's GridSearchCV. It rely on the cross validation technique which is better then testing on one validation set. The only minus of the function for us is that we cannot easily seed it to be certain of the same results for every go. But shouldn't be a problem because we expect our best results after taking into account the imbalance of the data..."
   ]
  },
  {
   "cell_type": "code",
   "execution_count": 83,
   "metadata": {},
   "outputs": [],
   "source": [
    "# helper function\n",
    "def global_param_tune(X_train, y_train, clf, param_grid, cv=5, scoring='f1', verbose=0):\n",
    "    search = GridSearchCV(clf, param_grid, cv=cv, scoring=scoring, return_train_score=True)\n",
    "    search.fit(X_train, y_train)\n",
    "    if verbose == 1:\n",
    "        means = search.cv_results_['mean_test_score']\n",
    "        stds = search.cv_results_['std_test_score']\n",
    "        for mean, std, params in zip(means, stds, search.cv_results_['params']):\n",
    "            print(f'CV score {mean:0.4f} (+/-{std:0.4f}) for {params}')\n",
    "    print(f'Best CV score {search.best_score_:0.3f} for parameters: {search.best_params_}')\n",
    "    return search.best_estimator_, search.best_score_"
   ]
  },
  {
   "cell_type": "markdown",
   "metadata": {},
   "source": [
    "Now we'll find the optimal parameters for all three models and train the tuned classifiers for later final testing. Also we'll keep the CV scores in the dataframe to choose optimal model based on cross validation"
   ]
  },
  {
   "cell_type": "code",
   "execution_count": 84,
   "metadata": {},
   "outputs": [],
   "source": [
    "cv_scores = pd.DataFrame(columns=['Decision Tree', 'Random Forest', 'Logistic Regression']\n",
    "                         , index=['Initial Data', 'Upsampled Data', 'Downsampled Data']\n",
    "                        )"
   ]
  },
  {
   "cell_type": "code",
   "execution_count": 85,
   "metadata": {},
   "outputs": [
    {
     "name": "stdout",
     "output_type": "stream",
     "text": [
      "Best CV score 0.563 for parameters: {'max_depth': 9, 'min_impurity_decrease': 0.0001}\n",
      "CPU times: user 2.84 s, sys: 0 ns, total: 2.84 s\n",
      "Wall time: 2.85 s\n"
     ]
    },
    {
     "data": {
      "text/plain": [
       "DecisionTreeClassifier(class_weight=None, criterion='gini', max_depth=9,\n",
       "                       max_features=None, max_leaf_nodes=None,\n",
       "                       min_impurity_decrease=0.0001, min_impurity_split=None,\n",
       "                       min_samples_leaf=1, min_samples_split=2,\n",
       "                       min_weight_fraction_leaf=0.0, presort=False,\n",
       "                       random_state=None, splitter='best')"
      ]
     },
     "execution_count": 85,
     "metadata": {},
     "output_type": "execute_result"
    }
   ],
   "source": [
    "%%time\n",
    "dt_clf, dt_cv_scores = global_param_tune(X_train, y_train, DecisionTreeClassifier()\n",
    "                                         , dt_params, verbose=0)\n",
    "cv_scores.loc['Initial Data', 'Decision Tree'] = dt_cv_scores\n",
    "dt_clf.fit(X_train, y_train)"
   ]
  },
  {
   "cell_type": "code",
   "execution_count": 86,
   "metadata": {},
   "outputs": [
    {
     "name": "stdout",
     "output_type": "stream",
     "text": [
      "Best CV score 0.577 for parameters: {'max_depth': 14, 'min_impurity_decrease': 1e-05, 'n_estimators': 110}\n",
      "CPU times: user 10min 23s, sys: 1.57 s, total: 10min 24s\n",
      "Wall time: 10min 29s\n"
     ]
    },
    {
     "data": {
      "text/plain": [
       "RandomForestClassifier(bootstrap=True, class_weight=None, criterion='gini',\n",
       "                       max_depth=14, max_features='auto', max_leaf_nodes=None,\n",
       "                       min_impurity_decrease=1e-05, min_impurity_split=None,\n",
       "                       min_samples_leaf=1, min_samples_split=2,\n",
       "                       min_weight_fraction_leaf=0.0, n_estimators=110,\n",
       "                       n_jobs=None, oob_score=False, random_state=None,\n",
       "                       verbose=0, warm_start=False)"
      ]
     },
     "execution_count": 86,
     "metadata": {},
     "output_type": "execute_result"
    }
   ],
   "source": [
    "%%time\n",
    "rf_clf, rf_cv_scores = global_param_tune(X_train, y_train, RandomForestClassifier()\n",
    "                                       , rf_params, verbose=0)\n",
    "cv_scores.loc['Initial Data', 'Random Forest'] = rf_cv_scores\n",
    "rf_clf.fit(X_train, y_train)"
   ]
  },
  {
   "cell_type": "code",
   "execution_count": 87,
   "metadata": {},
   "outputs": [
    {
     "name": "stdout",
     "output_type": "stream",
     "text": [
      "Best CV score 0.329 for parameters: {'estimator__C': 1, 'estimator__penalty': 'l1'}\n",
      "CPU times: user 10.1 s, sys: 7.73 s, total: 17.8 s\n",
      "Wall time: 17.9 s\n"
     ]
    },
    {
     "data": {
      "text/plain": [
       "Pipeline(memory=None,\n",
       "         steps=[('scaler',\n",
       "                 StandardScaler(copy=True, with_mean=True, with_std=True)),\n",
       "                ('estimator',\n",
       "                 LogisticRegression(C=1, class_weight=None, dual=False,\n",
       "                                    fit_intercept=True, intercept_scaling=1,\n",
       "                                    l1_ratio=None, max_iter=100,\n",
       "                                    multi_class='warn', n_jobs=None,\n",
       "                                    penalty='l1', random_state=None,\n",
       "                                    solver='liblinear', tol=0.0001, verbose=0,\n",
       "                                    warm_start=False))],\n",
       "         verbose=False)"
      ]
     },
     "execution_count": 87,
     "metadata": {},
     "output_type": "execute_result"
    }
   ],
   "source": [
    "%%time\n",
    "lr_pipe_clf, lr_pipe_cv_scores = global_param_tune(X_train, y_train, lr_pipe\n",
    "                                                   , lr_pipe_params, verbose=0)\n",
    "cv_scores.loc['Initial Data', 'Logistic Regression'] = lr_pipe_cv_scores\n",
    "lr_pipe_clf.fit(X_train, y_train)"
   ]
  },
  {
   "cell_type": "markdown",
   "metadata": {},
   "source": [
    "Best crossvalidation score goes to Random Forest model so far"
   ]
  },
  {
   "cell_type": "markdown",
   "metadata": {},
   "source": [
    "## Upsampling"
   ]
  },
  {
   "cell_type": "markdown",
   "metadata": {},
   "source": [
    "Let's try to improve the models with upsampling the dataset. Unfortunately we won't be able to use GridSearchCV with upsampling (actually we could with imblearn.pipeline but I'm not sure how to downsample this way) so we'll do parameter tuning and cross_validation manually"
   ]
  },
  {
   "cell_type": "markdown",
   "metadata": {},
   "source": [
    "Firstly define some helper functions"
   ]
  },
  {
   "cell_type": "code",
   "execution_count": 88,
   "metadata": {},
   "outputs": [],
   "source": [
    "def upsample(features, target, repeat):\n",
    "    \"\"\"\n",
    "    Upsample the data with target=1\n",
    "    features - pandas dataframe with features\n",
    "    target - pandas Series with target variable, should be binary - [0,1]\n",
    "    repeat - int, how many times to repeat samples with target=1\n",
    "    \"\"\"\n",
    "    features_zeros = features[target == 0]\n",
    "    features_ones = features[target == 1]\n",
    "    target_zeros = target[target == 0]\n",
    "    target_ones = target[target == 1]\n",
    "\n",
    "    features_upsampled = pd.concat([features_zeros] + [features_ones] * repeat)\n",
    "    target_upsampled = pd.concat([target_zeros] + [target_ones] * repeat)\n",
    "    \n",
    "    features_upsampled, target_upsampled = shuffle(\n",
    "        features_upsampled, target_upsampled, random_state=123)\n",
    "    \n",
    "    return features_upsampled, target_upsampled\n",
    "\n",
    "def downsample(features, target, fraction):\n",
    "    \"\"\"\n",
    "    Downsample the data with target=0\n",
    "    features - pandas dataframe with features\n",
    "    target - pandas Series with target variable, should be binary - [0,1]\n",
    "    fraction - float should be in interval (0,1)\n",
    "    , represent fraction of samples with target=0 to keep\n",
    "    \"\"\"\n",
    "    features_zeros = features[target == 0]\n",
    "    features_ones = features[target == 1]\n",
    "    target_zeros = target[target == 0]\n",
    "    target_ones = target[target == 1]\n",
    "\n",
    "    features_downsampled = pd.concat(\n",
    "        [features_zeros.sample(frac=fraction, random_state=123)] + [features_ones])\n",
    "    target_downsampled = pd.concat(\n",
    "        [target_zeros.sample(frac=fraction, random_state=123)] + [target_ones])\n",
    "    \n",
    "    features_downsampled, target_downsampled = shuffle(\n",
    "        features_downsampled, target_downsampled, random_state=123)\n",
    "    \n",
    "    return features_downsampled, target_downsampled"
   ]
  },
  {
   "cell_type": "code",
   "execution_count": 89,
   "metadata": {},
   "outputs": [],
   "source": [
    "def score_model(X_train, y_train, clf, params, cv=5, up=0, down=0, scoring='f1', random_state=123):\n",
    "    \"\"\"\n",
    "    Compute the cross validation scores for\n",
    "    X_train - features\n",
    "    y_train - targets\n",
    "    clf - model\n",
    "    params - parameters for model\n",
    "    cv - integer, to specify the number of folds\n",
    "    up - times to oversample the ones\n",
    "    down - share of zeros to use\n",
    "    scoring - string with name of the scorer (standard sklearn name)\n",
    "    random_state - seed the folds\n",
    "    return array with validation scores\n",
    "    \"\"\"\n",
    "    cv = StratifiedKFold(n_splits=cv, random_state=random_state)\n",
    "    scores = []\n",
    "    scorer = get_scorer(scoring)\n",
    "    for train_fold_index, val_fold_index in cv.split(X_train, y_train):\n",
    "        \n",
    "        X_train_fold, y_train_fold = X_train.iloc[train_fold_index], y_train.iloc[train_fold_index]\n",
    "        X_val_fold, y_val_fold = X_train.iloc[val_fold_index], y_train.iloc[val_fold_index]\n",
    "        \n",
    "        if up > 0:\n",
    "            X_train_fold_mod, y_train_fold_mod = upsample(X_train_fold, y_train_fold, up)\n",
    "        elif down > 0:\n",
    "            X_train_fold_mod, y_train_fold_mod = downsample(X_train_fold, y_train_fold, down)\n",
    "        else:\n",
    "            X_train_fold_mod, y_train_fold_mod = X_train_fold, y_train_fold\n",
    "        \n",
    "        model = clf.set_params(**params).fit(X_train_fold_mod, y_train_fold_mod)\n",
    "        scores.append(scorer(model, X_val_fold, y_val_fold))\n",
    "    return np.array(scores)"
   ]
  },
  {
   "cell_type": "code",
   "execution_count": 90,
   "metadata": {},
   "outputs": [],
   "source": [
    "def global_param_tune_manual(X_train, y_train, clf, param_grid, cv=5, scoring='f1'\n",
    "                             , verbose=0, up=0, down=0, random_state=123):\n",
    "    \"\"\"\n",
    "    Find optimal parameter set for the model with specified upsample or downsample\n",
    "    X_train - features\n",
    "    y_train - targets\n",
    "    clf - model\n",
    "    param_grid - dictionary of parameters to optimize\n",
    "    cv - integer, to specify the number of folds\n",
    "    up - times to oversample the ones\n",
    "    down - share of zeros to use\n",
    "    scoring - string with name of the scorer (standard sklearn name)\n",
    "    random_state - seed the score_model function\n",
    "    return best CV score and best parameters from param_grid\n",
    "    \"\"\"\n",
    "    # create list of param combinations in param_grid\n",
    "    keys = param_grid.keys()\n",
    "    values = (param_grid[key] for key in keys)\n",
    "    params = [dict(zip(keys, combination)) for combination in itertools.product(*values)]\n",
    "    # loop through params\n",
    "    score_tracker = []\n",
    "    for param in params:\n",
    "        scores = score_model(X_train, y_train, clf, param, cv=cv\n",
    "                             , up=up, down=down, scoring=scoring, random_state=random_state)\n",
    "        score_tracker.append((scores.mean(), param))\n",
    "        # print the info if needed\n",
    "        if verbose >0:\n",
    "            print(f'CV score {scores.mean():0.4f} (+/- {scores.std():0.4f}) for {param}')\n",
    "    best_scores = sorted(score_tracker, key=lambda x: x[0], reverse=True)[0]\n",
    "    print(f'Best CV score {best_scores[0]:0.4f} for parameters: {best_scores[1]}')\n",
    "    return best_scores"
   ]
  },
  {
   "cell_type": "code",
   "execution_count": 91,
   "metadata": {},
   "outputs": [
    {
     "data": {
      "application/vnd.jupyter.widget-view+json": {
       "model_id": "7098e185221a4fda94b5785d3ba447ab",
       "version_major": 2,
       "version_minor": 0
      },
      "text/plain": [
       "HBox(children=(FloatProgress(value=0.0, max=3.0), HTML(value='')))"
      ]
     },
     "metadata": {},
     "output_type": "display_data"
    },
    {
     "name": "stdout",
     "output_type": "stream",
     "text": [
      "Upsample with up=1\n",
      "Best CV score 0.5623 for parameters: {'max_depth': 9, 'min_impurity_decrease': 0.0001}\n",
      "Upsample with up=2\n",
      "Best CV score 0.6042 for parameters: {'max_depth': 8, 'min_impurity_decrease': 0.001}\n",
      "Upsample with up=3\n",
      "Best CV score 0.5966 for parameters: {'max_depth': 7, 'min_impurity_decrease': 0.001}\n",
      "\n",
      "Best score for upsample is 0.6042 for up=2 and params: {'max_depth': 8, 'min_impurity_decrease': 0.001}\n",
      "CPU times: user 13 s, sys: 15.5 ms, total: 13 s\n",
      "Wall time: 13.2 s\n"
     ]
    }
   ],
   "source": [
    "%%time\n",
    "score_tracker = []\n",
    "for up in tqdm(range(1,4)):\n",
    "    print(f'Upsample with up={up}')\n",
    "    score, params = global_param_tune_manual(X_train, y_train, DecisionTreeClassifier(), dt_params, up=up)\n",
    "    score_tracker.append((up, score, params))\n",
    "dt_up, score, dt_params_up = sorted(score_tracker, key=lambda x: x[1], reverse=True)[0]\n",
    "\n",
    "X_train_up, y_train_up = upsample(X_train, y_train, dt_up)\n",
    "dt_clf_up = DecisionTreeClassifier(**dt_params_up).fit(X_train_up, y_train_up)\n",
    "cv_scores.loc['Upsampled Data', 'Decision Tree'] = score\n",
    "print(f'Best score for upsample is {score:0.4f} for up={dt_up} and params: {dt_params_up}')"
   ]
  },
  {
   "cell_type": "code",
   "execution_count": 92,
   "metadata": {},
   "outputs": [
    {
     "data": {
      "application/vnd.jupyter.widget-view+json": {
       "model_id": "0ede9c0893864f97b1975d1f34085dbe",
       "version_major": 2,
       "version_minor": 0
      },
      "text/plain": [
       "HBox(children=(FloatProgress(value=0.0, max=3.0), HTML(value='')))"
      ]
     },
     "metadata": {},
     "output_type": "display_data"
    },
    {
     "name": "stdout",
     "output_type": "stream",
     "text": [
      "Upsample with up=1\n",
      "Best CV score 0.5733 for parameters: {'max_depth': 13, 'min_impurity_decrease': 1e-05, 'n_estimators': 90}\n",
      "Upsample with up=2\n",
      "Best CV score 0.6159 for parameters: {'max_depth': 11, 'min_impurity_decrease': 0.0001, 'n_estimators': 150}\n",
      "Upsample with up=3\n",
      "Best CV score 0.6214 for parameters: {'max_depth': 9, 'min_impurity_decrease': 0.0001, 'n_estimators': 90}\n",
      "\n",
      "Best score for upsample is 0.6214 for up=3 and params: {'max_depth': 9, 'min_impurity_decrease': 0.0001, 'n_estimators': 90}\n",
      "CPU times: user 33min, sys: 4.74 s, total: 33min 5s\n",
      "Wall time: 33min 21s\n"
     ]
    }
   ],
   "source": [
    "%%time\n",
    "score_tracker = []\n",
    "for up in tqdm(range(1,4)):\n",
    "    print(f'Upsample with up={up}')\n",
    "    score, params = global_param_tune_manual(X_train, y_train, RandomForestClassifier(), rf_params, up=up)\n",
    "    score_tracker.append((up, score, params))\n",
    "rf_up, rf_score, rf_params_up = sorted(score_tracker, key=lambda x: x[1], reverse=True)[0]\n",
    "X_train_up, y_train_up = upsample(X_train, y_train, rf_up)\n",
    "rf_clf_up = RandomForestClassifier(**rf_params_up).fit(X_train_up, y_train_up)\n",
    "cv_scores.loc['Upsampled Data', 'Random Forest'] = rf_score\n",
    "print(f'Best score for upsample is {rf_score:0.4f} for up={rf_up} and params: {rf_params_up}')"
   ]
  },
  {
   "cell_type": "code",
   "execution_count": 93,
   "metadata": {},
   "outputs": [
    {
     "data": {
      "application/vnd.jupyter.widget-view+json": {
       "model_id": "9144b208f6b64131bbfa43efa3ee5151",
       "version_major": 2,
       "version_minor": 0
      },
      "text/plain": [
       "HBox(children=(FloatProgress(value=0.0, max=3.0), HTML(value='')))"
      ]
     },
     "metadata": {},
     "output_type": "display_data"
    },
    {
     "name": "stdout",
     "output_type": "stream",
     "text": [
      "Upsample with up=2\n",
      "Best CV score 0.4837 for parameters: {'estimator__C': 0.1, 'estimator__penalty': 'l2'}\n",
      "Upsample with up=3\n",
      "Best CV score 0.5127 for parameters: {'estimator__C': 0.01, 'estimator__penalty': 'l1'}\n",
      "Upsample with up=4\n",
      "Best CV score 0.5093 for parameters: {'estimator__C': 0.01, 'estimator__penalty': 'l1'}\n",
      "\n",
      "Best score for upsample is 0.5127 for up=3 and params: {'estimator__C': 0.01, 'estimator__penalty': 'l1'}\n",
      "CPU times: user 28.8 s, sys: 19.2 s, total: 48 s\n",
      "Wall time: 48.1 s\n"
     ]
    }
   ],
   "source": [
    "%%time\n",
    "score_tracker = []\n",
    "for up in tqdm(range(2,5)):\n",
    "    print(f'Upsample with up={up}')\n",
    "    score, params = global_param_tune_manual(X_train, y_train, lr_pipe, lr_pipe_params, up=up)\n",
    "    score_tracker.append((up, score, params))\n",
    "lr_up, lr_score, lr_params_up = sorted(score_tracker, key=lambda x: x[1], reverse=True)[0]\n",
    "\n",
    "X_train_up, y_train_up = upsample(X_train, y_train, lr_up)\n",
    "lr_clf_up = lr_pipe.set_params(**lr_params_up).fit(X_train_up, y_train_up)\n",
    "cv_scores.loc['Upsampled Data', 'Logistic Regression'] = lr_score\n",
    "print(f'Best score for upsample is {lr_score:0.4f} for up={lr_up} and params: {lr_params_up}')"
   ]
  },
  {
   "cell_type": "markdown",
   "metadata": {},
   "source": [
    "Upsampling helps a lot. Even Logistic Regression model scores decent 51%. But no doubt Random Forest still the best approach with almost 62% CV score."
   ]
  },
  {
   "cell_type": "markdown",
   "metadata": {},
   "source": [
    "## Downsampling"
   ]
  },
  {
   "cell_type": "markdown",
   "metadata": {},
   "source": [
    "Let's see what result we can achieve with another way to balance the data"
   ]
  },
  {
   "cell_type": "code",
   "execution_count": 100,
   "metadata": {},
   "outputs": [
    {
     "data": {
      "application/vnd.jupyter.widget-view+json": {
       "model_id": "69bc58775fc74d5ea6366b3b8f0047c1",
       "version_major": 2,
       "version_minor": 0
      },
      "text/plain": [
       "HBox(children=(FloatProgress(value=0.0, max=8.0), HTML(value='')))"
      ]
     },
     "metadata": {},
     "output_type": "display_data"
    },
    {
     "name": "stdout",
     "output_type": "stream",
     "text": [
      "Downsample with down=0.35\n",
      "Best CV score 0.5946 for parameters: {'max_depth': 8, 'min_impurity_decrease': 0.001}\n",
      "Downsample with down=0.40\n",
      "Best CV score 0.6063 for parameters: {'max_depth': 7, 'min_impurity_decrease': 0.001}\n",
      "Downsample with down=0.45\n",
      "Best CV score 0.5987 for parameters: {'max_depth': 7, 'min_impurity_decrease': 0.001}\n",
      "Downsample with down=0.50\n",
      "Best CV score 0.6061 for parameters: {'max_depth': 8, 'min_impurity_decrease': 0.001}\n",
      "Downsample with down=0.55\n",
      "Best CV score 0.5994 for parameters: {'max_depth': 10, 'min_impurity_decrease': 0.001}\n",
      "Downsample with down=0.60\n",
      "Best CV score 0.5935 for parameters: {'max_depth': 8, 'min_impurity_decrease': 0.001}\n",
      "Downsample with down=0.65\n",
      "Best CV score 0.6055 for parameters: {'max_depth': 9, 'min_impurity_decrease': 0.001}\n",
      "Downsample with down=0.70\n",
      "Best CV score 0.5887 for parameters: {'max_depth': 9, 'min_impurity_decrease': 0.001}\n",
      "\n",
      "Best score for downsample is 0.6063 for  down=0.39999999999999997 and params: {'max_depth': 7, 'min_impurity_decrease': 0.001}\n",
      "CPU times: user 22.7 s, sys: 47.5 ms, total: 22.7 s\n",
      "Wall time: 23 s\n"
     ]
    }
   ],
   "source": [
    "%%time\n",
    "score_tracker = []\n",
    "for down in tqdm(np.arange(0.35, 0.71, 0.05)):\n",
    "    print(f'Downsample with down={down:0.2f}')\n",
    "    score, params = global_param_tune_manual(X_train, y_train, DecisionTreeClassifier(), dt_params, down=down)\n",
    "    score_tracker.append((down, score, params))\n",
    "dt_down, dt_score, dt_params_down = sorted(score_tracker, key=lambda x: x[1], reverse=True)[0]\n",
    "\n",
    "X_train_down, y_train_down = downsample(X_train, y_train, dt_down)\n",
    "dt_clf_down = DecisionTreeClassifier(**dt_params_down).fit(X_train_down, y_train_down)\n",
    "cv_scores.loc['Downsampled Data', 'Decision Tree'] = dt_score\n",
    "print(f'Best score for downsample is {dt_score:0.4f} for  down={dt_down} and params: {dt_params_down}')"
   ]
  },
  {
   "cell_type": "code",
   "execution_count": 101,
   "metadata": {},
   "outputs": [
    {
     "data": {
      "application/vnd.jupyter.widget-view+json": {
       "model_id": "689c35f3a3b44fdba649851e048953fd",
       "version_major": 2,
       "version_minor": 0
      },
      "text/plain": [
       "HBox(children=(FloatProgress(value=0.0, max=8.0), HTML(value='')))"
      ]
     },
     "metadata": {},
     "output_type": "display_data"
    },
    {
     "name": "stdout",
     "output_type": "stream",
     "text": [
      "Downsample with down=0.35\n",
      "Best CV score 0.6196 for parameters: {'max_depth': 8, 'min_impurity_decrease': 0.0001, 'n_estimators': 150}\n",
      "Downsample with down=0.40\n",
      "Best CV score 0.6212 for parameters: {'max_depth': 9, 'min_impurity_decrease': 0.0001, 'n_estimators': 90}\n",
      "Downsample with down=0.45\n",
      "Best CV score 0.6226 for parameters: {'max_depth': 10, 'min_impurity_decrease': 1e-05, 'n_estimators': 100}\n",
      "Downsample with down=0.50\n",
      "Best CV score 0.6200 for parameters: {'max_depth': 11, 'min_impurity_decrease': 0.0001, 'n_estimators': 80}\n",
      "Downsample with down=0.55\n",
      "Best CV score 0.6169 for parameters: {'max_depth': 11, 'min_impurity_decrease': 1e-05, 'n_estimators': 110}\n",
      "Downsample with down=0.60\n",
      "Best CV score 0.6147 for parameters: {'max_depth': 13, 'min_impurity_decrease': 0.0001, 'n_estimators': 140}\n",
      "Downsample with down=0.65\n",
      "Best CV score 0.6138 for parameters: {'max_depth': 11, 'min_impurity_decrease': 1e-05, 'n_estimators': 110}\n",
      "Downsample with down=0.70\n",
      "Best CV score 0.6065 for parameters: {'max_depth': 12, 'min_impurity_decrease': 1e-05, 'n_estimators': 100}\n",
      "\n",
      "Best score for downsample is 0.6226 for down=0.44999999999999996 and params: {'max_depth': 10, 'min_impurity_decrease': 1e-05, 'n_estimators': 100}\n",
      "CPU times: user 55min 45s, sys: 11.3 s, total: 55min 56s\n",
      "Wall time: 56min 32s\n"
     ]
    }
   ],
   "source": [
    "%%time\n",
    "score_tracker = []\n",
    "for down in tqdm(np.arange(0.35, 0.71, 0.05)):\n",
    "    print(f'Downsample with down={down:0.2f}')\n",
    "    score, params = global_param_tune_manual(X_train, y_train, RandomForestClassifier(), rf_params, down=down)\n",
    "    score_tracker.append((down, score, params))\n",
    "rf_down, rf_score, rf_params_down = sorted(score_tracker, key=lambda x: x[1], reverse=True)[0]\n",
    "X_train_down, y_train_down = downsample(X_train, y_train, rf_down)\n",
    "rf_clf_down = RandomForestClassifier(**rf_params_down).fit(X_train_down, y_train_down)\n",
    "cv_scores.loc['Downsampled Data', 'Random Forest'] = rf_score\n",
    "print(f'Best score for downsample is {rf_score:0.4f} for down={rf_down} and params: {rf_params_down}')"
   ]
  },
  {
   "cell_type": "code",
   "execution_count": 102,
   "metadata": {},
   "outputs": [
    {
     "data": {
      "application/vnd.jupyter.widget-view+json": {
       "model_id": "902a63604ae2464881c70c06aab8eb36",
       "version_major": 2,
       "version_minor": 0
      },
      "text/plain": [
       "HBox(children=(FloatProgress(value=0.0, max=8.0), HTML(value='')))"
      ]
     },
     "metadata": {},
     "output_type": "display_data"
    },
    {
     "name": "stdout",
     "output_type": "stream",
     "text": [
      "Downsample with down=0.35\n",
      "Best CV score 0.5156 for parameters: {'estimator__C': 0.01, 'estimator__penalty': 'l1'}\n",
      "Downsample with down=0.40\n",
      "Best CV score 0.4992 for parameters: {'estimator__C': 0.01, 'estimator__penalty': 'l1'}\n",
      "Downsample with down=0.45\n",
      "Best CV score 0.4922 for parameters: {'estimator__C': 1, 'estimator__penalty': 'l1'}\n",
      "Downsample with down=0.50\n",
      "Best CV score 0.4803 for parameters: {'estimator__C': 0.1, 'estimator__penalty': 'l1'}\n",
      "Downsample with down=0.55\n",
      "Best CV score 0.4692 for parameters: {'estimator__C': 5, 'estimator__penalty': 'l1'}\n",
      "Downsample with down=0.60\n",
      "Best CV score 0.4530 for parameters: {'estimator__C': 1, 'estimator__penalty': 'l1'}\n",
      "Downsample with down=0.65\n",
      "Best CV score 0.4348 for parameters: {'estimator__C': 1, 'estimator__penalty': 'l2'}\n",
      "Downsample with down=0.70\n",
      "Best CV score 0.4202 for parameters: {'estimator__C': 5, 'estimator__penalty': 'l2'}\n",
      "\n",
      "Best score for downsample is 0.5155868890409149 for down=0.35 and params: {'estimator__C': 0.01, 'estimator__penalty': 'l1'}\n",
      "CPU times: user 1min 13s, sys: 53.9 s, total: 2min 7s\n",
      "Wall time: 2min 7s\n"
     ]
    }
   ],
   "source": [
    "%%time\n",
    "score_tracker = []\n",
    "for down in tqdm(np.arange(0.35, 0.71, 0.05)):\n",
    "    print(f'Downsample with down={down:0.2f}')\n",
    "    score, params = global_param_tune_manual(X_train, y_train, lr_pipe, lr_pipe_params, down=down)\n",
    "    score_tracker.append((down, score, params))\n",
    "lr_down, lr_score, lr_params_down = sorted(score_tracker, key=lambda x: x[1], reverse=True)[0]\n",
    "X_train_down, y_train_down = downsample(X_train, y_train, lr_down)\n",
    "lr_clf_down = lr_pipe.set_params(**lr_params_down).fit(X_train_down, y_train_down)\n",
    "cv_scores.loc['Downsampled Data', 'Logistic Regression'] = lr_score\n",
    "print(f'Best score for downsample is {lr_score} for down={lr_down} and params: {lr_params_down}')"
   ]
  },
  {
   "cell_type": "markdown",
   "metadata": {},
   "source": [
    "Now let's take a look at CV scores from different models and different techniques used to deal with the imbalance of the data"
   ]
  },
  {
   "cell_type": "code",
   "execution_count": 103,
   "metadata": {},
   "outputs": [
    {
     "data": {
      "text/html": [
       "<div>\n",
       "<style scoped>\n",
       "    .dataframe tbody tr th:only-of-type {\n",
       "        vertical-align: middle;\n",
       "    }\n",
       "\n",
       "    .dataframe tbody tr th {\n",
       "        vertical-align: top;\n",
       "    }\n",
       "\n",
       "    .dataframe thead th {\n",
       "        text-align: right;\n",
       "    }\n",
       "</style>\n",
       "<table border=\"1\" class=\"dataframe\">\n",
       "  <thead>\n",
       "    <tr style=\"text-align: right;\">\n",
       "      <th></th>\n",
       "      <th>Decision Tree</th>\n",
       "      <th>Random Forest</th>\n",
       "      <th>Logistic Regression</th>\n",
       "    </tr>\n",
       "  </thead>\n",
       "  <tbody>\n",
       "    <tr>\n",
       "      <td>Initial Data</td>\n",
       "      <td>0.563346</td>\n",
       "      <td>0.577298</td>\n",
       "      <td>0.32863</td>\n",
       "    </tr>\n",
       "    <tr>\n",
       "      <td>Upsampled Data</td>\n",
       "      <td>0.6042</td>\n",
       "      <td>0.621387</td>\n",
       "      <td>0.512716</td>\n",
       "    </tr>\n",
       "    <tr>\n",
       "      <td>Downsampled Data</td>\n",
       "      <td>0.606335</td>\n",
       "      <td>0.622593</td>\n",
       "      <td>0.515587</td>\n",
       "    </tr>\n",
       "  </tbody>\n",
       "</table>\n",
       "</div>"
      ],
      "text/plain": [
       "                 Decision Tree Random Forest Logistic Regression\n",
       "Initial Data          0.563346      0.577298             0.32863\n",
       "Upsampled Data          0.6042      0.621387            0.512716\n",
       "Downsampled Data      0.606335      0.622593            0.515587"
      ]
     },
     "execution_count": 103,
     "metadata": {},
     "output_type": "execute_result"
    }
   ],
   "source": [
    "cv_scores"
   ]
  },
  {
   "cell_type": "markdown",
   "metadata": {},
   "source": [
    "- For each technique we can see that Random Forest provided the highest CV score. No wonder here and we could see from the times spent for global parameters tuning that this improve in the accuracy comes with the cost of computational complexity. \n",
    "- Both upsampling and downsampling achieved a serious improvement on CV scores for every model tested\n",
    "- Downsampling was slightly better then upsampling for our task. It's not really that meaningfull because the difference with upsampling results well inside the possible error due to randomness of selections and so on. But in this case we suspect that the fact that we used only integer replicate parameter for upsampling let the technique down and we were able to find more optimal fraction parameter for downsample. But might be just no luck for upsample..."
   ]
  },
  {
   "cell_type": "markdown",
   "metadata": {},
   "source": [
    "Based on cross validation scores we've got we should choose in favor of Random Forest model trained on downsampled data."
   ]
  },
  {
   "cell_type": "markdown",
   "metadata": {},
   "source": [
    "## Final testing"
   ]
  },
  {
   "cell_type": "markdown",
   "metadata": {},
   "source": [
    "In fact we should test only the choosen model - Random Forest with downsample and check how it'll perform on the test set. But we'll test all other models we trained just for fun of it."
   ]
  },
  {
   "cell_type": "code",
   "execution_count": 98,
   "metadata": {},
   "outputs": [
    {
     "data": {
      "text/html": [
       "<div>\n",
       "<style scoped>\n",
       "    .dataframe tbody tr th:only-of-type {\n",
       "        vertical-align: middle;\n",
       "    }\n",
       "\n",
       "    .dataframe tbody tr th {\n",
       "        vertical-align: top;\n",
       "    }\n",
       "\n",
       "    .dataframe thead th {\n",
       "        text-align: right;\n",
       "    }\n",
       "</style>\n",
       "<table border=\"1\" class=\"dataframe\">\n",
       "  <thead>\n",
       "    <tr style=\"text-align: right;\">\n",
       "      <th></th>\n",
       "      <th>Classifier</th>\n",
       "      <th>Initial_Dataset</th>\n",
       "      <th>Upsampled_Dataset</th>\n",
       "      <th>Downsampled_Dataset</th>\n",
       "    </tr>\n",
       "  </thead>\n",
       "  <tbody>\n",
       "    <tr>\n",
       "      <td>0</td>\n",
       "      <td>Logistic Regression</td>\n",
       "      <td>0.323570</td>\n",
       "      <td>0.482187</td>\n",
       "      <td>0.482187</td>\n",
       "    </tr>\n",
       "    <tr>\n",
       "      <td>1</td>\n",
       "      <td>Decision Tree</td>\n",
       "      <td>0.585812</td>\n",
       "      <td>0.604146</td>\n",
       "      <td>0.621696</td>\n",
       "    </tr>\n",
       "    <tr>\n",
       "      <td>2</td>\n",
       "      <td>Random Forest</td>\n",
       "      <td>0.599755</td>\n",
       "      <td>0.626484</td>\n",
       "      <td>0.627451</td>\n",
       "    </tr>\n",
       "  </tbody>\n",
       "</table>\n",
       "</div>"
      ],
      "text/plain": [
       "            Classifier  Initial_Dataset  Upsampled_Dataset  \\\n",
       "0  Logistic Regression         0.323570           0.482187   \n",
       "1        Decision Tree         0.585812           0.604146   \n",
       "2        Random Forest         0.599755           0.626484   \n",
       "\n",
       "   Downsampled_Dataset  \n",
       "0             0.482187  \n",
       "1             0.621696  \n",
       "2             0.627451  "
      ]
     },
     "execution_count": 98,
     "metadata": {},
     "output_type": "execute_result"
    }
   ],
   "source": [
    "test_results_f1 = pd.DataFrame(columns=['Classifier', 'Initial_Dataset', 'Upsampled_Dataset', 'Downsampled_Dataset'])\n",
    "names = ['Logistic Regression', 'Decision Tree', 'Random Forest']\n",
    "test_results_f1.loc[test_results_f1.shape[0]] = [\n",
    "    'Logistic Regression',\n",
    "    f1_score(y_test, lr_pipe_clf.predict(X_test)),\n",
    "    f1_score(y_test, lr_clf_up.predict(X_test)),\n",
    "    f1_score(y_test, lr_clf_down.predict(X_test))\n",
    "]\n",
    "test_results_f1.loc[test_results_f1.shape[0]] = [\n",
    "    'Decision Tree',\n",
    "    f1_score(y_test, dt_clf.predict(X_test)),\n",
    "    f1_score(y_test, dt_clf_up.predict(X_test)),\n",
    "    f1_score(y_test, dt_clf_down.predict(X_test))\n",
    "]\n",
    "test_results_f1.loc[test_results_f1.shape[0]] = [\n",
    "    'Random Forest',\n",
    "    f1_score(y_test, rf_clf.predict(X_test)),\n",
    "    f1_score(y_test, rf_clf_up.predict(X_test)),\n",
    "    f1_score(y_test, rf_clf_down.predict(X_test))\n",
    "]\n",
    "test_results_f1"
   ]
  },
  {
   "cell_type": "markdown",
   "metadata": {},
   "source": [
    "We were lucky with the test set and got the scores for our prefered model even higher then CV score it had. It wasn't guaranteed that the best scores would be achieved by the best CV model but it actually was in our case."
   ]
  },
  {
   "cell_type": "markdown",
   "metadata": {},
   "source": [
    "Finally let's take a look at another metric to evaluate our models"
   ]
  },
  {
   "cell_type": "code",
   "execution_count": 99,
   "metadata": {},
   "outputs": [
    {
     "data": {
      "text/html": [
       "<div>\n",
       "<style scoped>\n",
       "    .dataframe tbody tr th:only-of-type {\n",
       "        vertical-align: middle;\n",
       "    }\n",
       "\n",
       "    .dataframe tbody tr th {\n",
       "        vertical-align: top;\n",
       "    }\n",
       "\n",
       "    .dataframe thead th {\n",
       "        text-align: right;\n",
       "    }\n",
       "</style>\n",
       "<table border=\"1\" class=\"dataframe\">\n",
       "  <thead>\n",
       "    <tr style=\"text-align: right;\">\n",
       "      <th></th>\n",
       "      <th>Classifier</th>\n",
       "      <th>Initial_Dataset</th>\n",
       "      <th>Upsampled_Dataset</th>\n",
       "      <th>Downsampled_Dataset</th>\n",
       "    </tr>\n",
       "  </thead>\n",
       "  <tbody>\n",
       "    <tr>\n",
       "      <td>0</td>\n",
       "      <td>Logistic Regression</td>\n",
       "      <td>0.590845</td>\n",
       "      <td>0.683645</td>\n",
       "      <td>0.683645</td>\n",
       "    </tr>\n",
       "    <tr>\n",
       "      <td>1</td>\n",
       "      <td>Decision Tree</td>\n",
       "      <td>0.724100</td>\n",
       "      <td>0.750866</td>\n",
       "      <td>0.772941</td>\n",
       "    </tr>\n",
       "    <tr>\n",
       "      <td>2</td>\n",
       "      <td>Random Forest</td>\n",
       "      <td>0.724847</td>\n",
       "      <td>0.775911</td>\n",
       "      <td>0.773304</td>\n",
       "    </tr>\n",
       "  </tbody>\n",
       "</table>\n",
       "</div>"
      ],
      "text/plain": [
       "            Classifier  Initial_Dataset  Upsampled_Dataset  \\\n",
       "0  Logistic Regression         0.590845           0.683645   \n",
       "1        Decision Tree         0.724100           0.750866   \n",
       "2        Random Forest         0.724847           0.775911   \n",
       "\n",
       "   Downsampled_Dataset  \n",
       "0             0.683645  \n",
       "1             0.772941  \n",
       "2             0.773304  "
      ]
     },
     "execution_count": 99,
     "metadata": {},
     "output_type": "execute_result"
    }
   ],
   "source": [
    "test_results_roc_auc = pd.DataFrame(columns=['Classifier', 'Initial_Dataset', 'Upsampled_Dataset', 'Downsampled_Dataset'])\n",
    "names = ['Logistic Regression', 'Decision Tree', 'Random Forest']\n",
    "test_results_roc_auc.loc[test_results_roc_auc.shape[0]] = [\n",
    "    'Logistic Regression',\n",
    "    roc_auc_score(y_test, lr_pipe_clf.predict(X_test)),\n",
    "    roc_auc_score(y_test, lr_clf_up.predict(X_test)),\n",
    "    roc_auc_score(y_test, lr_clf_down.predict(X_test))\n",
    "]\n",
    "test_results_roc_auc.loc[test_results_roc_auc.shape[0]] = [\n",
    "    'Decision Tree',\n",
    "    roc_auc_score(y_test, dt_clf.predict(X_test)),\n",
    "    roc_auc_score(y_test, dt_clf_up.predict(X_test)),\n",
    "    roc_auc_score(y_test, dt_clf_down.predict(X_test))\n",
    "]\n",
    "test_results_roc_auc.loc[test_results_roc_auc.shape[0]] = [\n",
    "    'Random Forest',\n",
    "    roc_auc_score(y_test, rf_clf.predict(X_test)),\n",
    "    roc_auc_score(y_test, rf_clf_up.predict(X_test)),\n",
    "    roc_auc_score(y_test, rf_clf_down.predict(X_test))\n",
    "]\n",
    "test_results_roc_auc"
   ]
  },
  {
   "cell_type": "markdown",
   "metadata": {},
   "source": [
    "Well three leading models from f1-scoring table kept the leading positions with auc-roc scoring. Interesting that upsampled random forest beats the downsampled one by a bit but it means nothing for us, just that those models are very close in performance and we already did know that from our cross validation score table. Also we shouldn't be too impressed by the performance of the Downsampled Decision Tree model on the test set. Most likely it just got lucky with the test set."
   ]
  },
  {
   "cell_type": "markdown",
   "metadata": {},
   "source": [
    "## Overall conclusion"
   ]
  },
  {
   "cell_type": "markdown",
   "metadata": {},
   "source": [
    "In this project we were asked to build a model that could predict which of the Bank's customers are going to leave the Bank based on provided customer's data. We were not actually interested in the prediction of the loyal customers so the F1-score metric looks very appropriate choise to evaluate the performance of the models.\n",
    "<br><br>\n",
    "After some basic data preprocessing and setting aside the quarter of the data set as the test side we explored the perfomances of Logistic Regression, Decision Tree and Random Forest classifiers on the rest of the data. We used cross validation technique to tune the hyperparameters of the models, upsample and downsample methods of balancing the imbalanced data. <br>\n",
    "Based on crossvalidation scores we found that the upsampling/downsampling is crucial for performances of the models and that Random Forest models achived the best results on our data.\n",
    "<br>\n",
    "Thus we choose the Random Forest model trained on downsampled data as the model that could be used to predict whether a customer will leave the bank soon. <br>\n",
    "We tested the model on the test set and got the results: <br>\n",
    "F1-score = 0.6317 <br>\n",
    "AUC-ROC score = 0.7729"
   ]
  },
  {
   "cell_type": "code",
   "execution_count": null,
   "metadata": {},
   "outputs": [],
   "source": []
  }
 ],
 "metadata": {
  "kernelspec": {
   "display_name": "Python 3",
   "language": "python",
   "name": "python3"
  },
  "language_info": {
   "codemirror_mode": {
    "name": "ipython",
    "version": 3
   },
   "file_extension": ".py",
   "mimetype": "text/x-python",
   "name": "python",
   "nbconvert_exporter": "python",
   "pygments_lexer": "ipython3",
   "version": "3.7.4"
  }
 },
 "nbformat": 4,
 "nbformat_minor": 2
}
